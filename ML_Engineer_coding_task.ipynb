{
 "cells": [
  {
   "cell_type": "markdown",
   "id": "6e87a076-1275-4461-b037-f269ce695e55",
   "metadata": {},
   "source": [
    "# ML Engineer: Coding Challenge\n",
    "_Author:_ Emanuele Sicurella\n",
    "\n",
    "Applying for Epoch Biodesign"
   ]
  },
  {
   "cell_type": "markdown",
   "id": "1d380de7-d4e3-4e88-9f85-8ba224501477",
   "metadata": {},
   "source": [
    "## Introduction"
   ]
  },
  {
   "cell_type": "markdown",
   "id": "bdfff9c9-1e5b-4a7b-936a-bbc1f300e1f9",
   "metadata": {},
   "source": [
    "This report presents my approach to the coding challenge for the position of Machine Learning Engineer at Epoch Biodesign. The challenge consists in the analysis and modeling of a dataset of sequence activity data composed of series of amminoacid sequences (proteins) and respective thermostability values, _i.e._, the temperature at which the protein unfolds, ceasing to be active.\n",
    "\n",
    "I decided to use a Jupyter notebook as it is a great tool for presenting text and working code examples and it can dramatically help following the flow of my reasoning. Following Jupyter best practices, this notebook is designed in a way that can be executed cell after cell without the need for including or modifying code (although, given the interactive nature of a Jupyter notebook, the reader can experiment with slight modifications in the code). Please note that as the notebook is intended to show my step-by-step reasoning and approach, I will import libraries and define functions when needed instead of make all the imports and function definitions at the beginning as usual.\n",
    "\n",
    "I've included a cell, at the end of the Introduction section, to install all the dependencies needed to complete the full notebook. I've also provided a file _.yml_ with the Conda environment used, as well as a _requirements.txt_ file should the reader wish to create their own environment."
   ]
  },
  {
   "cell_type": "markdown",
   "id": "850b2088-c41b-4d51-994b-fe972316df81",
   "metadata": {},
   "source": [
    "### Structure of the report"
   ]
  },
  {
   "cell_type": "markdown",
   "id": "8fbae42c-4f50-4d48-8734-7f36ea89a8eb",
   "metadata": {},
   "source": [
    "This report is divided into three sections;\n",
    "\n",
    "**Section 1** is focused on exploratory data analysis, including some visualisations to better understand the dataset.\n",
    "\n",
    "**Section 2** show my first approach for modeling the dataset, using one-hot-encoding for the sequences and a Long-Short-Term Memory recurrent architecture as a predictive model. Even without fine-tuning, the model reaches good performances quantified by an R<sup>2</sup> score of about 0.85.\n",
    "\n",
    "**Section 3** includes an introduction to another approach using a different encoding method. In particular, I will use the encoder of a pretrained LLM."
   ]
  },
  {
   "cell_type": "markdown",
   "id": "a130d47d-6e7e-4609-99cb-caec0fba9339",
   "metadata": {},
   "source": [
    "### Requirements"
   ]
  },
  {
   "cell_type": "markdown",
   "id": "7017d677-e9c9-411d-ade4-ddbd3dc0601f",
   "metadata": {},
   "source": [
    "The following cell, contains the commands to install all the libraries required to run the whole notebook."
   ]
  },
  {
   "cell_type": "code",
   "execution_count": null,
   "id": "d2179cad-11a2-4a12-b6d4-3ce472ab7101",
   "metadata": {},
   "outputs": [],
   "source": [
    "# Uncomment below if libraries are needed (e.g. if not using the .yml environment file provided)\n",
    "\n",
    "## This will install dependencies on the current Jupyter kernel\n",
    "#import sys\n",
    "#sys.executable\n",
    "#!sys.executable - m pip install numpy\n",
    "#!sys.executable - m pip install matplotlib\n",
    "#!sys.executable - m pip install pandas\n",
    "#!sys.executable - m pip install scikit-learn\n",
    "#!sys.executable - m pip install torch\n",
    "#!sys.executable - m pip install transformers"
   ]
  },
  {
   "cell_type": "markdown",
   "id": "c2194bee-1228-4385-af8b-ab6b6637d8fe",
   "metadata": {},
   "source": [
    "## Section 1: Exploratory Data Analysis"
   ]
  },
  {
   "cell_type": "markdown",
   "id": "8393339e-ab76-4274-946f-1edfe5ad9710",
   "metadata": {},
   "source": [
    "First, the data needs to be loaded. I used the library `pandas` to read the dataset in _.csv_ format. I specified the optional parameter `encoding = \"ISO-8859-1\"` because of the presence of at least one non-utf-8 character. I also imported the `pyplot` from the `matplotlib` library to help exploratory data analysis with some visualisations."
   ]
  },
  {
   "cell_type": "code",
   "execution_count": 2,
   "id": "a16444c4-bf63-4c18-913c-b622908d38e5",
   "metadata": {},
   "outputs": [],
   "source": [
    "import pandas as pd\n",
    "import matplotlib.pyplot as plt"
   ]
  },
  {
   "cell_type": "code",
   "execution_count": 3,
   "id": "045ee9da-8af9-44be-b8d4-a330fdd5a135",
   "metadata": {},
   "outputs": [],
   "source": [
    "thermostability = pd.read_csv(\"thermostability.csv\", encoding = \"ISO-8859-1\")"
   ]
  },
  {
   "cell_type": "code",
   "execution_count": 4,
   "id": "567b75bc-33ff-400c-b81d-d4b561b7a5d9",
   "metadata": {},
   "outputs": [
    {
     "name": "stdout",
     "output_type": "stream",
     "text": [
      "261\n"
     ]
    },
    {
     "data": {
      "text/html": [
       "<div>\n",
       "<style scoped>\n",
       "    .dataframe tbody tr th:only-of-type {\n",
       "        vertical-align: middle;\n",
       "    }\n",
       "\n",
       "    .dataframe tbody tr th {\n",
       "        vertical-align: top;\n",
       "    }\n",
       "\n",
       "    .dataframe thead th {\n",
       "        text-align: right;\n",
       "    }\n",
       "</style>\n",
       "<table border=\"1\" class=\"dataframe\">\n",
       "  <thead>\n",
       "    <tr style=\"text-align: right;\">\n",
       "      <th></th>\n",
       "      <th>name</th>\n",
       "      <th>sequence</th>\n",
       "      <th>thermostability [¡C]</th>\n",
       "    </tr>\n",
       "  </thead>\n",
       "  <tbody>\n",
       "    <tr>\n",
       "      <th>0</th>\n",
       "      <td>variant_1</td>\n",
       "      <td>MTIKEMPQPKTFGELKNLPLLNTDKPVQALMKIADELGEIFKFEAP...</td>\n",
       "      <td>55.0</td>\n",
       "    </tr>\n",
       "    <tr>\n",
       "      <th>1</th>\n",
       "      <td>variant_2</td>\n",
       "      <td>KETSPIPQPKTFGPLGNLPLIDKDKPTLSLIKLAEEQGPIFQIHTP...</td>\n",
       "      <td>43.0</td>\n",
       "    </tr>\n",
       "    <tr>\n",
       "      <th>2</th>\n",
       "      <td>variant_3</td>\n",
       "      <td>KQASAIPQPKTYGPLKNLPHLEKEQLSQSLWRIADELGPIFRFDFP...</td>\n",
       "      <td>49.0</td>\n",
       "    </tr>\n",
       "    <tr>\n",
       "      <th>3</th>\n",
       "      <td>variant_4</td>\n",
       "      <td>KQASAIPQPKTYGPLKNLPHLEKEQLSQSLWRIADELGPIFRFDFP...</td>\n",
       "      <td>39.8</td>\n",
       "    </tr>\n",
       "    <tr>\n",
       "      <th>4</th>\n",
       "      <td>variant_5</td>\n",
       "      <td>KQASAIPQPKTYGPLKNLPHLEKEQLSQSLWRIADELGPIFRFDFP...</td>\n",
       "      <td>52.9</td>\n",
       "    </tr>\n",
       "    <tr>\n",
       "      <th>5</th>\n",
       "      <td>variant_6</td>\n",
       "      <td>KETSPIPQPKTFGPLGNLPLIDKDKPTLSLIKLAEEQGPIFQIHTP...</td>\n",
       "      <td>48.8</td>\n",
       "    </tr>\n",
       "    <tr>\n",
       "      <th>6</th>\n",
       "      <td>variant_7</td>\n",
       "      <td>KQASAIPQPKTYGPLKNLPHLEKEQLSQSLWRIADELGPIFRFDFP...</td>\n",
       "      <td>45.0</td>\n",
       "    </tr>\n",
       "    <tr>\n",
       "      <th>7</th>\n",
       "      <td>variant_8</td>\n",
       "      <td>KETSPIPQPKTFGPLGNLPLIDKDKPTLSLIKLAEEQGPIFQIHTP...</td>\n",
       "      <td>48.3</td>\n",
       "    </tr>\n",
       "    <tr>\n",
       "      <th>8</th>\n",
       "      <td>variant_9</td>\n",
       "      <td>KETSPIPQPKTFGPLGNLPLIDKDKPTLSLIKLAEEQGPIFQIHTP...</td>\n",
       "      <td>61.5</td>\n",
       "    </tr>\n",
       "    <tr>\n",
       "      <th>9</th>\n",
       "      <td>variant_10</td>\n",
       "      <td>KETSPIPQPKTFGPLGNLPLIDKDKPTLSLIKLAEEQGPIFQIHTP...</td>\n",
       "      <td>54.6</td>\n",
       "    </tr>\n",
       "  </tbody>\n",
       "</table>\n",
       "</div>"
      ],
      "text/plain": [
       "         name                                           sequence  \\\n",
       "0   variant_1  MTIKEMPQPKTFGELKNLPLLNTDKPVQALMKIADELGEIFKFEAP...   \n",
       "1   variant_2  KETSPIPQPKTFGPLGNLPLIDKDKPTLSLIKLAEEQGPIFQIHTP...   \n",
       "2   variant_3  KQASAIPQPKTYGPLKNLPHLEKEQLSQSLWRIADELGPIFRFDFP...   \n",
       "3   variant_4  KQASAIPQPKTYGPLKNLPHLEKEQLSQSLWRIADELGPIFRFDFP...   \n",
       "4   variant_5  KQASAIPQPKTYGPLKNLPHLEKEQLSQSLWRIADELGPIFRFDFP...   \n",
       "5   variant_6  KETSPIPQPKTFGPLGNLPLIDKDKPTLSLIKLAEEQGPIFQIHTP...   \n",
       "6   variant_7  KQASAIPQPKTYGPLKNLPHLEKEQLSQSLWRIADELGPIFRFDFP...   \n",
       "7   variant_8  KETSPIPQPKTFGPLGNLPLIDKDKPTLSLIKLAEEQGPIFQIHTP...   \n",
       "8   variant_9  KETSPIPQPKTFGPLGNLPLIDKDKPTLSLIKLAEEQGPIFQIHTP...   \n",
       "9  variant_10  KETSPIPQPKTFGPLGNLPLIDKDKPTLSLIKLAEEQGPIFQIHTP...   \n",
       "\n",
       "   thermostability [¡C]  \n",
       "0                  55.0  \n",
       "1                  43.0  \n",
       "2                  49.0  \n",
       "3                  39.8  \n",
       "4                  52.9  \n",
       "5                  48.8  \n",
       "6                  45.0  \n",
       "7                  48.3  \n",
       "8                  61.5  \n",
       "9                  54.6  "
      ]
     },
     "execution_count": 4,
     "metadata": {},
     "output_type": "execute_result"
    }
   ],
   "source": [
    "print(len(thermostability))\n",
    "thermostability.head(10)"
   ]
  },
  {
   "cell_type": "markdown",
   "id": "c53ccbf8-5d84-4f5b-8ac0-b1d445920ba6",
   "metadata": {},
   "source": [
    "The dataset consists of 261 entries. At a first glance, the sequences appear to be in the expected form _i.e._, a list of uppercase letters each referring to a specific amminoacid. The thermostability data is in the form of `float` numbers. To check for potential anomalies in the dataset, I first looked at the distribution of thermostability values."
   ]
  },
  {
   "cell_type": "code",
   "execution_count": 5,
   "id": "6c05b98c-9490-4cf4-8d3a-7143b3bb3f73",
   "metadata": {},
   "outputs": [
    {
     "data": {
      "text/html": [
       "<div>\n",
       "<style scoped>\n",
       "    .dataframe tbody tr th:only-of-type {\n",
       "        vertical-align: middle;\n",
       "    }\n",
       "\n",
       "    .dataframe tbody tr th {\n",
       "        vertical-align: top;\n",
       "    }\n",
       "\n",
       "    .dataframe thead th {\n",
       "        text-align: right;\n",
       "    }\n",
       "</style>\n",
       "<table border=\"1\" class=\"dataframe\">\n",
       "  <thead>\n",
       "    <tr style=\"text-align: right;\">\n",
       "      <th></th>\n",
       "      <th>thermostability [¡C]</th>\n",
       "    </tr>\n",
       "  </thead>\n",
       "  <tbody>\n",
       "    <tr>\n",
       "      <th>count</th>\n",
       "      <td>261.000000</td>\n",
       "    </tr>\n",
       "    <tr>\n",
       "      <th>mean</th>\n",
       "      <td>51.821456</td>\n",
       "    </tr>\n",
       "    <tr>\n",
       "      <th>std</th>\n",
       "      <td>5.862987</td>\n",
       "    </tr>\n",
       "    <tr>\n",
       "      <th>min</th>\n",
       "      <td>36.000000</td>\n",
       "    </tr>\n",
       "    <tr>\n",
       "      <th>25%</th>\n",
       "      <td>47.900000</td>\n",
       "    </tr>\n",
       "    <tr>\n",
       "      <th>50%</th>\n",
       "      <td>50.900000</td>\n",
       "    </tr>\n",
       "    <tr>\n",
       "      <th>75%</th>\n",
       "      <td>55.900000</td>\n",
       "    </tr>\n",
       "    <tr>\n",
       "      <th>max</th>\n",
       "      <td>64.400000</td>\n",
       "    </tr>\n",
       "  </tbody>\n",
       "</table>\n",
       "</div>"
      ],
      "text/plain": [
       "       thermostability [¡C]\n",
       "count            261.000000\n",
       "mean              51.821456\n",
       "std                5.862987\n",
       "min               36.000000\n",
       "25%               47.900000\n",
       "50%               50.900000\n",
       "75%               55.900000\n",
       "max               64.400000"
      ]
     },
     "execution_count": 5,
     "metadata": {},
     "output_type": "execute_result"
    }
   ],
   "source": [
    "thermostability.describe()"
   ]
  },
  {
   "cell_type": "code",
   "execution_count": 6,
   "id": "55ab74a7-e139-4907-9fc7-6a633069ad4c",
   "metadata": {},
   "outputs": [
    {
     "data": {
      "image/png": "[encoded data removed]",
      "text/plain": [
       "<Figure size 640x480 with 1 Axes>"
      ]
     },
     "metadata": {},
     "output_type": "display_data"
    }
   ],
   "source": [
    "fig, ax = plt.subplots()\n",
    "ax = thermostability[\"thermostability [¡C]\"].hist(bins = 25)\n",
    "ax.set_title(\"Thermostability Values Histogram\")\n",
    "ax.set_ylabel(\"Count\")\n",
    "ax.set_xlabel(\"Thermostability [¡C]\")\n",
    "\n",
    "plt.show()"
   ]
  },
  {
   "cell_type": "markdown",
   "id": "2548b4db-5508-4d25-ae97-4d395dbdceac",
   "metadata": {},
   "source": [
    "The values appear to follow a Gaussian distribution, except for a a \"bump\" centered to a value slightly above 60. It might be useful to perform a statistical test (like the $\\chi^2$ test) to see to which extent the data effectively follow a Gaussian distribution. This is because some preprocessing methods (like standardisation) are based on the assumption that the data is normally distributed. However, given the time limitation, I won't perform any statistical tests and not use the assumption of normally distributed data.\n",
    "\n",
    "In addition, the visualisation can be improved. Having more time, I would add vertical dashed lines indicating different percentiles as well as the mean, with respective tick labels. Moreover, I would modify the grid and play with bars filling, contour and colors to make the plot more visually appealing. Similar considerations applies for other visualisations in this report, as I preferred to focus on the predictive modeling using Machine Learning given the limited time.\n",
    "\n",
    "I checked the length of the sequences adding a column in the dataframe with the respective length of each sequence."
   ]
  },
  {
   "cell_type": "code",
   "execution_count": 7,
   "id": "ab633119-581e-43ed-a997-69f9847e9aac",
   "metadata": {},
   "outputs": [],
   "source": [
    "thermostability['seq_length'] = thermostability[\"sequence\"].apply(lambda x: len(x))"
   ]
  },
  {
   "cell_type": "code",
   "execution_count": 8,
   "id": "12aae73f-fde0-41d0-b03b-c143b40eb1db",
   "metadata": {},
   "outputs": [
    {
     "data": {
      "text/html": [
       "<div>\n",
       "<style scoped>\n",
       "    .dataframe tbody tr th:only-of-type {\n",
       "        vertical-align: middle;\n",
       "    }\n",
       "\n",
       "    .dataframe tbody tr th {\n",
       "        vertical-align: top;\n",
       "    }\n",
       "\n",
       "    .dataframe thead th {\n",
       "        text-align: right;\n",
       "    }\n",
       "</style>\n",
       "<table border=\"1\" class=\"dataframe\">\n",
       "  <thead>\n",
       "    <tr style=\"text-align: right;\">\n",
       "      <th></th>\n",
       "      <th>thermostability [¡C]</th>\n",
       "      <th>seq_length</th>\n",
       "    </tr>\n",
       "  </thead>\n",
       "  <tbody>\n",
       "    <tr>\n",
       "      <th>count</th>\n",
       "      <td>261.000000</td>\n",
       "      <td>261.0</td>\n",
       "    </tr>\n",
       "    <tr>\n",
       "      <th>mean</th>\n",
       "      <td>51.821456</td>\n",
       "      <td>466.0</td>\n",
       "    </tr>\n",
       "    <tr>\n",
       "      <th>std</th>\n",
       "      <td>5.862987</td>\n",
       "      <td>0.0</td>\n",
       "    </tr>\n",
       "    <tr>\n",
       "      <th>min</th>\n",
       "      <td>36.000000</td>\n",
       "      <td>466.0</td>\n",
       "    </tr>\n",
       "    <tr>\n",
       "      <th>25%</th>\n",
       "      <td>47.900000</td>\n",
       "      <td>466.0</td>\n",
       "    </tr>\n",
       "    <tr>\n",
       "      <th>50%</th>\n",
       "      <td>50.900000</td>\n",
       "      <td>466.0</td>\n",
       "    </tr>\n",
       "    <tr>\n",
       "      <th>75%</th>\n",
       "      <td>55.900000</td>\n",
       "      <td>466.0</td>\n",
       "    </tr>\n",
       "    <tr>\n",
       "      <th>max</th>\n",
       "      <td>64.400000</td>\n",
       "      <td>466.0</td>\n",
       "    </tr>\n",
       "  </tbody>\n",
       "</table>\n",
       "</div>"
      ],
      "text/plain": [
       "       thermostability [¡C]  seq_length\n",
       "count            261.000000       261.0\n",
       "mean              51.821456       466.0\n",
       "std                5.862987         0.0\n",
       "min               36.000000       466.0\n",
       "25%               47.900000       466.0\n",
       "50%               50.900000       466.0\n",
       "75%               55.900000       466.0\n",
       "max               64.400000       466.0"
      ]
     },
     "execution_count": 8,
     "metadata": {},
     "output_type": "execute_result"
    }
   ],
   "source": [
    "thermostability.describe()"
   ]
  },
  {
   "cell_type": "markdown",
   "id": "a40589a3-4240-4222-8365-d73b2e12c74f",
   "metadata": {},
   "source": [
    "All of the sequences are of the same length of 466 amminoacid. In general, this is not the case and it might be useful to store the length values in a column of the dataframe.\n",
    "\n",
    "I also wrote a function to count the occurence of each possible sequence element with two aims in mind. First, to assess the frequency of each amminoacid in the sequences (or the single sequence for comparison). Second, to outline the potential presence of unexpected elements (e.g. imputable to errors or corrupted data)."
   ]
  },
  {
   "cell_type": "code",
   "execution_count": 9,
   "id": "6dca6a45-e0cc-431f-84b6-4505f03ea685",
   "metadata": {},
   "outputs": [],
   "source": [
    "def get_code_freq(seq_list):\n",
    "    '''\n",
    "    Get the frequency of codes (amminoacids) in a list of sequences.\n",
    "\n",
    "    Parameters:\n",
    "    ----------\n",
    "      seq_list (list of str) - list containing the amminoacid sequences.\n",
    "\n",
    "    Returns:\n",
    "    -------\n",
    "      code_freq (dict of str:int) - dictionary of codes (amminoacid) and respective count in the sequences.\n",
    "    '''\n",
    "\n",
    "    code_freq = {}\n",
    "    \n",
    "    for seq in seq_list:\n",
    "        for code in seq:\n",
    "            if code in code_freq.keys():\n",
    "                code_freq[code] += 1\n",
    "            else:\n",
    "                code_freq[code] = 1\n",
    "\n",
    "    # Arrange (sort) dict items based on dict values in descending  order for easy plotting\n",
    "    code_freq = dict(sorted(code_freq.items(), key=lambda item: item[1], reverse=True))\n",
    "                \n",
    "    return code_freq"
   ]
  },
  {
   "cell_type": "code",
   "execution_count": 10,
   "id": "d801d3fc-dbaa-4cc2-91be-5bab7b538adc",
   "metadata": {},
   "outputs": [],
   "source": [
    "code_freq = get_code_freq(thermostability['sequence'])"
   ]
  },
  {
   "cell_type": "code",
   "execution_count": 11,
   "id": "8852cf9c-7c01-4dc8-9c93-10350963d52a",
   "metadata": {},
   "outputs": [
    {
     "data": {
      "image/png": "[encoded data removed]",
      "text/plain": [
       "<Figure size 640x480 with 1 Axes>"
      ]
     },
     "metadata": {},
     "output_type": "display_data"
    }
   ],
   "source": [
    "fig, ax = plt.subplots()\n",
    "\n",
    "ax.bar(code_freq.keys(),code_freq.values())\n",
    "ax.set_title(\"Amminoacid frequences: all sequences\")\n",
    "ax.set_ylabel(\"Count\")\n",
    "ax.set_xlabel(\"Amminoacid\")\n",
    "plt.show()"
   ]
  },
  {
   "cell_type": "markdown",
   "id": "57a9005e-1d72-437e-9647-f459401dffa3",
   "metadata": {},
   "source": [
    "The function can be also ran on a single sequence for comparison with the total frequencies."
   ]
  },
  {
   "cell_type": "code",
   "execution_count": 13,
   "id": "c4b512e1-6131-486d-b6ba-6c2382556c59",
   "metadata": {},
   "outputs": [
    {
     "data": {
      "image/png": "[encoded data removed]",
      "text/plain": [
       "<Figure size 640x480 with 1 Axes>"
      ]
     },
     "metadata": {},
     "output_type": "display_data"
    }
   ],
   "source": [
    "seq = 0\n",
    "code_freq_seq = get_code_freq(thermostability['sequence'][seq])\n",
    "\n",
    "fig, ax = plt.subplots()\n",
    "\n",
    "ax.bar(code_freq.keys(),code_freq.values())\n",
    "ax.set_title(f\"Amminoacid frequences: {thermostability['name'][seq]}\")\n",
    "ax.set_ylabel(\"Count\")\n",
    "ax.set_xlabel(\"Amminoacid\")\n",
    "plt.show()"
   ]
  },
  {
   "cell_type": "markdown",
   "id": "b1d8ea93-adfd-40af-8896-9ee1393effe4",
   "metadata": {},
   "source": [
    "We can see that the sequences contain the usual 20 amminoacid, Leucine being the most common and Cysteine the least, plus a '-' character. In biological sequence data, this character usually indicates a gap character, although it's better to ask the team who generated the data for clarifications. In any case, given the character's low relative frequency, I don't expect to run into issues when using Machine Learning to model the data.\n",
    "\n",
    "I looked for the gap character in the sequences."
   ]
  },
  {
   "cell_type": "code",
   "execution_count": 14,
   "id": "152002ba-fdf1-44e9-b5ba-0988030f28b0",
   "metadata": {},
   "outputs": [],
   "source": [
    "gap_char = {}\n",
    "for sequence in thermostability['sequence']:\n",
    "    try:\n",
    "        if sequence.index('-') in gap_char.keys():\n",
    "            gap_char[sequence.index('-')] += 1\n",
    "        else:\n",
    "            gap_char[sequence.index('-')] = 1\n",
    "    except ValueError:\n",
    "        continue"
   ]
  },
  {
   "cell_type": "code",
   "execution_count": 15,
   "id": "c8e9e0ce-99d5-49ef-8759-f6269c607814",
   "metadata": {},
   "outputs": [
    {
     "data": {
      "text/plain": [
       "{231: 43, 465: 66}"
      ]
     },
     "execution_count": 15,
     "metadata": {},
     "output_type": "execute_result"
    }
   ],
   "source": [
    "gap_char"
   ]
  },
  {
   "cell_type": "markdown",
   "id": "3171a42c-dd64-4d00-9be3-5e52e7b7529a",
   "metadata": {},
   "source": [
    "Interestingly, the gap character appears 43 times in the 232nd place and 66 times in the last place of a sequence."
   ]
  },
  {
   "cell_type": "markdown",
   "id": "919fa43d-0483-4bc9-add1-c434e83e058b",
   "metadata": {},
   "source": [
    "### Considerations on sequence alignment and clustering"
   ]
  },
  {
   "cell_type": "markdown",
   "id": "6d8405aa-68ff-4cc3-96d9-5a955e1c76df",
   "metadata": {},
   "source": [
    "Aligning and clustering are typical sequence analysis tools in bioinformatics. Such tools, can be extremely helpful (and even necessary) in some ML preprocessing pipelines. Given the limited time, I didn't perform such analysis, but I will provide an example of why this might be important.\n",
    "\n",
    "Later in Section 2, when splitting the data into training, validation and test set, I will implicitly use a random splitting. While this may seem a universally correct choice, there might be cases when a splitting of the data should not be performed randomly. By splitting a dataset, we want to minimise the modification in the statistical distribution of the input data. When dealing with protein sequences containing amminoacid mutation, we may have different types or different numbers of mutation. If we perform random splitting, especially with smaller heterogeneous datasets, we may exlcude from the training set a specific kind of mutation or proteins with a higher number of mutations (as they will be less common in the dataset). This will modify the initial statistical distribution of the dataset leading to underperforming models and lower generalisation capabilities. The solution is to use a different splitting strategy like Positional or Mutational splitting (as explained in <a href='https://www.biorxiv.org/content/10.1101/2023.06.18.545472v2.abstract'>Michael, Kæstel-Hansen et al., 2023</a>). For this kind of splitting methods, alignment might be necessary.\n",
    "\n",
    "Similarly, clustering tecniques might help ensuring that a sufficient number of proteins for each cluster is well represented by samples included in the training set.\n",
    "\n",
    "While this applies particularly for natural protein sequences, and less in protein engineering settings, I believe it would be worth spending some time discussing with the team who produced the data and with molecular biologists who created the protein, asking in particular the strategy for introducing mutations and the starting natural sequence, if any.\n"
   ]
  },
  {
   "cell_type": "markdown",
   "id": "d8f14789-9211-46c5-92de-80c010900bcd",
   "metadata": {},
   "source": [
    "## Section 2: Thermostability prediction using one-hot-encoding and LSTM"
   ]
  },
  {
   "cell_type": "markdown",
   "id": "7e7a94b0-7ee6-43a9-b89f-4d758d7a336d",
   "metadata": {},
   "source": [
    "In this section, I will fit a bi-directional LSTM on the dataset to predict thermostability values from the specific sequence. LSTM have been the standard architecture for processing sequence data as their simpler counterparts, RNN and GRU, are more suited for shorter sequences or sequence where the relationship between distant elements is less important. Nowadays, transformers and derivate like Large Language Models (LLMs) drastically outperform simpler architectures like LSTMs. However, the simplicity of this method, both conceptually and computationally, make them a great choice for problems involving sequence data which are not extremely complex."
   ]
  },
  {
   "cell_type": "markdown",
   "id": "ba90e60d-e371-44a9-8710-741b9375d69b",
   "metadata": {},
   "source": [
    "### Data pre-processing"
   ]
  },
  {
   "cell_type": "markdown",
   "id": "96c9a320-860e-4d0e-a89e-7671b2d845b9",
   "metadata": {},
   "source": [
    "The first pre-processing step to make input data suitable for a ML model is the encoding of the sequences. A typical approach for categorical sequence data (_i.e._, sequences of discrete elements like protein or genome sequences) is to use one-hot-encoding. It works as follow:\n",
    "1. Identify the number of all possible element of the sequences (aka our dictionary). In this case, we have 20 amminoacid and a '-' character for a total of 21 possible elements.\n",
    "2. Assign a number to each element. This choice can be arbitrary and the most important thing is to remain consistent.\n",
    "3. One-hot-encode each possible elementt using a vector of the same dimension of the dictionary, with all zeroes except for a 1 in the position corresponding to the number identifying the element. If $X_n$ with integer $n\\in[0,20]$ are our vector representations of the elements and $x_{nm}$ the vector single components, with integer $m\\in[0,20]$, we have:\n",
    "\n",
    "   $X_0 = (x_{0,0}, x_{0,1}, x_{0,2}, \\cdots x_{0,20}) = (1, 0, 0 \\cdots 0)$\n",
    "   \n",
    "   $X_1 = (x_{1,0}, x_{1,1}, x_{1,2}, \\cdots x_{1,20}) = (0, 1, 0 \\cdots 0)$\n",
    "\n",
    "   $\\cdots$\n",
    "\n",
    "   $X_{20} = (x_{20,0}, x_{20,1}, x_{20,2}, \\cdots x_{20,20}) = (0, 0, 0 \\cdots 1)$"
   ]
  },
  {
   "cell_type": "markdown",
   "id": "af1c1cb0-8a8d-4a92-9c44-4389067cf44b",
   "metadata": {},
   "source": [
    "I will now apply all the 3 steps to the sequences in the dataset. Please note that the function `torch.nn.F.one_hot` from PyTorch which will be used later, is able to complete all the 3 steps directly on the raw sequences of letters. I decided to explicitly perform step 1 and 2 to show the intermediate positive integer-encoded sequences as well as my theoretical understanding of the process."
   ]
  },
  {
   "cell_type": "markdown",
   "id": "419e7007-cecc-4e43-9e98-7d33714c6a7c",
   "metadata": {},
   "source": [
    "Step 1: create a dictionary to assign a positive integer number to each of the 21 components:"
   ]
  },
  {
   "cell_type": "code",
   "execution_count": 16,
   "id": "9838a5c0-d00d-4c41-a283-9d68d403238c",
   "metadata": {},
   "outputs": [
    {
     "name": "stdout",
     "output_type": "stream",
     "text": [
      "{'L': 0, 'E': 1, 'K': 2, 'D': 3, 'A': 4, 'I': 5, 'P': 6, 'T': 7, 'G': 8, 'Q': 9, 'R': 10, 'V': 11, 'F': 12, 'S': 13, 'N': 14, 'H': 15, 'M': 16, 'Y': 17, 'W': 18, 'C': 19, '-': 20}\n"
     ]
    }
   ],
   "source": [
    "codes = list(code_freq.keys())\n",
    "code_id = {code:i for i,code in enumerate(codes)}\n",
    "print(code_id)"
   ]
  },
  {
   "cell_type": "markdown",
   "id": "56e359ea-6c8f-4266-9cde-8ac59196ad5d",
   "metadata": {},
   "source": [
    "Step 2: encode each sequence using this new representation. I will need to create a new function for this (clearly, it is a very simple function tailored to this specific dataset. A better function will also need to deal with potential missing values or errors either in the sequence or in the code_id dictionary)."
   ]
  },
  {
   "cell_type": "code",
   "execution_count": 17,
   "id": "ddce8e71-9d57-4bed-800c-bd6c774eeb27",
   "metadata": {},
   "outputs": [],
   "source": [
    "def encode_sequences(sequences, code_id):\n",
    "    '''\n",
    "    Encode sequences based on a dictionary.\n",
    "\n",
    "    Parameters:\n",
    "    ----------\n",
    "      sequences: list - list containing sequences to encode.\n",
    "\n",
    "    Returns:\n",
    "    -------\n",
    "      encoded_sequences: list - encoded sequences with correspondence from code_id dictionary.\n",
    "    '''\n",
    "\n",
    "    encoded_sequences = []\n",
    "    for seq in sequences:\n",
    "        new_seq = []\n",
    "        for code in seq:\n",
    "            new_seq.append(code_id[code])\n",
    "        encoded_sequences.append(new_seq)\n",
    "\n",
    "    return encoded_sequences"
   ]
  },
  {
   "cell_type": "code",
   "execution_count": 18,
   "id": "0f9da3e2-7cdf-4d37-991e-a858615c2fbe",
   "metadata": {},
   "outputs": [],
   "source": [
    "encoded_sequences = encode_sequences(thermostability['sequence'], code_id)"
   ]
  },
  {
   "cell_type": "code",
   "execution_count": 19,
   "id": "3ae3fd90-1a69-4842-b06c-ccbb4163700b",
   "metadata": {},
   "outputs": [
    {
     "name": "stdout",
     "output_type": "stream",
     "text": [
      "[16, 7, 5, 2, 1, 16, 6, 9, 6, 2, 7, 12, 8, 1, 0, 2, 14, 0, 6, 0, 0, 14, 7, 3, 2, 6, 11, 9, 4, 0, 16, 2, 5, 4, 3, 1, 0, 8, 1, 5, 12, 2, 12, 1, 4, 6, 8, 10, 11, 7, 10, 17, 0, 13, 13, 9, 10, 0, 5, 2, 1, 4, 19, 3, 1, 13, 10, 12, 3, 2, 14, 0, 13, 9, 4, 0, 2, 12, 11, 10, 3, 12, 4, 8, 3, 8, 0, 4, 7, 13, 18, 7, 15, 1, 2, 14, 18, 2, 2, 4, 15, 14, 5, 0, 0, 6, 13, 12, 13, 9, 9, 4, 16, 2, 8, 17, 15, 4, 16, 16, 11, 3, 5, 4, 11, 9, 0, 11, 9, 2, 18, 1, 10, 0, 14, 4, 3, 1, 15, 5, 1, 11, 6, 1, 3, 16, 7, 10, 0, 7, 0, 3, 7, 5, 8, 0, 19, 8, 12, 14, 17, 10, 12, 14, 13, 12, 17, 10, 3, 9, 6, 15, 6, 12, 5, 7, 13, 16, 11, 10, 4, 0, 3, 1, 4, 16, 14, 2, 0, 9, 10, 4, 14, 6, 3, 3, 6, 4, 17, 3, 1, 14, 2, 10, 9, 12, 9, 1, 3, 5, 2, 11, 16, 14, 3, 0, 11, 3, 2, 5, 5, 4, 3, 10, 2, 4, 13, 8, 1, 9, 13, 20, 3, 3, 0, 0, 7, 15, 16, 0, 14, 8, 2, 3, 6, 1, 7, 8, 1, 6, 0, 3, 3, 1, 14, 5, 10, 17, 9, 5, 5, 7, 12, 0, 5, 4, 8, 15, 1, 7, 7, 13, 8, 0, 0, 13, 12, 4, 0, 17, 12, 0, 11, 2, 14, 6, 15, 11, 0, 9, 2, 4, 4, 1, 1, 4, 4, 10, 11, 0, 11, 3, 6, 11, 6, 13, 17, 2, 9, 11, 2, 9, 0, 2, 17, 11, 8, 16, 11, 0, 14, 1, 4, 0, 10, 0, 18, 6, 7, 4, 6, 4, 12, 13, 0, 17, 4, 2, 1, 3, 7, 11, 0, 8, 8, 1, 17, 6, 0, 1, 2, 8, 3, 1, 0, 16, 11, 0, 5, 6, 9, 0, 15, 10, 3, 2, 7, 5, 18, 8, 3, 3, 11, 1, 1, 12, 10, 6, 1, 10, 12, 1, 14, 6, 13, 4, 5, 6, 9, 15, 4, 12, 2, 6, 12, 8, 14, 8, 9, 10, 4, 19, 5, 8, 9, 9, 12, 4, 0, 15, 1, 4, 7, 0, 11, 0, 8, 16, 16, 0, 2, 15, 12, 3, 12, 1, 3, 15, 7, 14, 17, 1, 0, 3, 5, 2, 1, 7, 0, 7, 0, 2, 6, 1, 8, 12, 11, 11, 2, 4, 2, 13, 2, 2, 5, 6, 0, 8, 8, 5, 6, 13, 6, 13, 7, 20]\n"
     ]
    }
   ],
   "source": [
    "print(encoded_sequences[0]) #example"
   ]
  },
  {
   "cell_type": "markdown",
   "id": "6090dfb3-807e-4607-8b8b-61899e62172b",
   "metadata": {},
   "source": [
    "Finally, we can apply the one-hot-encoding. I will not create my own function but use the `torch.nn.F.one_hot` function:"
   ]
  },
  {
   "cell_type": "code",
   "execution_count": 20,
   "id": "bd12a0ac-58b4-4f11-8a40-c8afe4ea5eea",
   "metadata": {},
   "outputs": [],
   "source": [
    "import torch\n",
    "import torch.nn.functional as F"
   ]
  },
  {
   "cell_type": "code",
   "execution_count": 21,
   "id": "c6f1ecd8-25a7-4787-b0cf-af19e9fbda21",
   "metadata": {},
   "outputs": [],
   "source": [
    "# Select GPU computing if available\n",
    "device = ('cuda' if torch.cuda.is_available() else 'cpu') "
   ]
  },
  {
   "cell_type": "code",
   "execution_count": 22,
   "id": "a33dc87d-7cd1-4778-a2cb-1d38515f2d4b",
   "metadata": {},
   "outputs": [
    {
     "name": "stdout",
     "output_type": "stream",
     "text": [
      "torch.Size([261, 466, 21])\n"
     ]
    }
   ],
   "source": [
    "encoded_sequences_tensor = torch.tensor(encoded_sequences)\n",
    "X = F.one_hot(encoded_sequences_tensor, 21).float().to(device)\n",
    "\n",
    "print(X.shape)"
   ]
  },
  {
   "cell_type": "markdown",
   "id": "a1bb269d-ff1c-4f70-bf3b-ff8016650d58",
   "metadata": {},
   "source": [
    "Note that I decided to encode the gap character mainly because it is not always found in the same position and it could carry some additional information in the dataset. Another solution might be to use a 20-category one-hot encoding, with null vectors in the position corresponding to the gap character. Unfortunately, this solution with the function `torch.nn.F.one_hot` is not straigtforward as, to the best of my knowledge, there is no simple way to deal with a specific category (like the `handle_unknown` parameter of the function `sklearn.preprocessing.OneHotEncoder` from scikit learn). Hence, a solution might be to use the function from `scikit-learn`, or write a custom one-hot encoder but given the time concern, I kept the 21 categories solution."
   ]
  },
  {
   "cell_type": "markdown",
   "id": "70529095-7c4c-41f4-bbbb-6ec74598de84",
   "metadata": {},
   "source": [
    "While not strictly necessary, we can normalise the output data for easier convergence of the model. Since the goal is to model the specific dataset, I will normalise the existing values into the interval $[0,1]$ (another possible solutions is to standardise the data, but this will need the assumption of Gaussian-distributed values which I didn't prove). In general, a predictive model might work on a wider range of thermostability, but to perform well, it may need a dataset including a correspondingly wider range of thermostability data."
   ]
  },
  {
   "cell_type": "code",
   "execution_count": 23,
   "id": "fe5221c6-b72f-4274-8de3-cb5b3030475f",
   "metadata": {},
   "outputs": [],
   "source": [
    "import numpy as np"
   ]
  },
  {
   "cell_type": "code",
   "execution_count": 24,
   "id": "49b298d4-3c83-4304-a5b0-a69041cef100",
   "metadata": {},
   "outputs": [],
   "source": [
    "thermo_val = np.array(thermostability[\"thermostability [¡C]\"])\n",
    "max_thermo = np.max(thermo_val)\n",
    "min_thermo = np.min(thermo_val)\n",
    "thermo_val_norm = (thermo_val -  min_thermo) / (max_thermo - min_thermo)\n",
    "y = torch.tensor(thermo_val_norm).float().to(device)"
   ]
  },
  {
   "cell_type": "markdown",
   "id": "6c0e1932-d8af-4f5b-850c-779b462f496d",
   "metadata": {},
   "source": [
    "Now that we have our X and y, the next step is to create the dataset to be passed to the ML model."
   ]
  },
  {
   "cell_type": "markdown",
   "id": "854e8776-0511-4d1c-8c3c-9996299399ae",
   "metadata": {},
   "source": [
    "### Baseline"
   ]
  },
  {
   "cell_type": "markdown",
   "id": "466dbec0-9e86-46ba-8f16-cb2f4f2c0464",
   "metadata": {},
   "source": [
    "Normally, before deploying more complex ML models, I would look for a baseline, either existing or by using a conceptually simple predictive model like a linear regression. Baselines are very important to ensure we are not overcomplicating the approach. In my experience, ML Engineers or Data Scientist often deploy very complicated neural architectures claiming impressive results, while compared to a simple linear model the improvement is very minor. Given the time limitation and the aim of the report, I will jump into deploying an LSTM to showcase my experience with more complex architectures."
   ]
  },
  {
   "cell_type": "markdown",
   "id": "57be4067-630a-47ac-8cc1-23eb763a17bd",
   "metadata": {},
   "source": [
    "### LSTM"
   ]
  },
  {
   "cell_type": "markdown",
   "id": "3a5e316f-cfe6-41c0-af4c-f86ec5104117",
   "metadata": {},
   "source": [
    "To train the LSTM, I will split the data into training, validation and test set. I will use a random split, although other methods, while more time consuming, might be more suitable (see \"considerations on alignment and clustering\" at the end of Section 1)."
   ]
  },
  {
   "cell_type": "code",
   "execution_count": 25,
   "id": "64327c9e-af56-450d-8962-8dda1af6019a",
   "metadata": {},
   "outputs": [],
   "source": [
    "# Set a seed to a generator of random processes for reproducibility\n",
    "seed = 32\n",
    "rnd_generator = torch.manual_seed(seed)"
   ]
  },
  {
   "cell_type": "code",
   "execution_count": 26,
   "id": "3a6607d8-143f-4bc5-87cf-5e01e16909f0",
   "metadata": {},
   "outputs": [],
   "source": [
    "from torch.utils.data import TensorDataset, DataLoader"
   ]
  },
  {
   "cell_type": "code",
   "execution_count": 27,
   "id": "89e7c57c-510c-4470-95ab-a0508ba2b23a",
   "metadata": {},
   "outputs": [],
   "source": [
    "data = TensorDataset(X,y)\n",
    "train_set, valid_set, test_set = torch.utils.data.random_split(data, (0.8,0.1,0.1), generator = rnd_generator)"
   ]
  },
  {
   "cell_type": "markdown",
   "id": "f4709d71-675e-4422-a41e-0d6a0565ad96",
   "metadata": {},
   "source": [
    "We can finally declare the architecture of our model. PyTorch uses classes for ML model building. The `__init__` specifies the architecture and initialise the model, while `forward` specifies the application of the model to the input data. Here, I used a bidirectional LSTM layer followed by a simple linear projection to one single output value which will be the predicted thermostability. The reason fo choosing a bidirectional architecture is because protein sequences can be in fact 'read' in both direction (differently from stock price indexes where a temporal direction is essential). To ensure flexibility, I set the parameters referring to the input feature size, sequence length, number of layers and output size variable."
   ]
  },
  {
   "cell_type": "code",
   "execution_count": 28,
   "id": "fb0d8b5b-7ec1-4c95-9897-7bee01de33f6",
   "metadata": {},
   "outputs": [],
   "source": [
    "import torch.nn as nn"
   ]
  },
  {
   "cell_type": "code",
   "execution_count": 29,
   "id": "0c339df1-5e81-4132-882f-44107bd3ab1d",
   "metadata": {},
   "outputs": [],
   "source": [
    "class ThermoLSTM(nn.Module):\n",
    "    '''\n",
    "    Model for thermostability prediction based on LSTM followed by linear layer.\n",
    "\n",
    "    Attributes\n",
    "    ----------\n",
    "    input_size : int\n",
    "        feature input size\n",
    "    seq_length : int\n",
    "        legth of the input sequence\n",
    "    hidden_size : int\n",
    "        size of the hidden state\n",
    "    num_layers: int\n",
    "        number of LSTM layers\n",
    "    output_size\n",
    "        size of the output of the final layer\n",
    "\n",
    "    Methods\n",
    "    -------\n",
    "    forward(x):\n",
    "        Applies the model to the input data x.\n",
    "    \"\"\"\n",
    "    \n",
    "    '''\n",
    "    def __init__(self, input_size, seq_length, hidden_size, num_layers, output_size, batch_first=True):\n",
    "        '''\n",
    "        Initialise an instance of the model.\n",
    "\n",
    "        Parameters:\n",
    "        ----------\n",
    "            input_size : int\n",
    "                feature input size\n",
    "            seq_length : int\n",
    "                legth of the input sequence\n",
    "            hidden_size : int\n",
    "                size of the hidden state\n",
    "            num_layers: int\n",
    "                number of LSTM layers\n",
    "            output_size: int\n",
    "                size of the output of the final layer\n",
    "            batch_first: bool\n",
    "                whether the first dimension of the input tensor is the number of samples (default: True)\n",
    "        \n",
    "        '''\n",
    "        super(ThermoLSTM, self).__init__()\n",
    "        self.LSTM = nn.LSTM(input_size, hidden_size, num_layers = num_layers, batch_first=batch_first, bidirectional=True)\n",
    "        self.fc = nn.Linear(2*seq_length*hidden_size, output_size)\n",
    "    \n",
    "    def forward(self, x):\n",
    "        '''\n",
    "        Applies the model to the input data.\n",
    "\n",
    "        Parameters:\n",
    "        ----------\n",
    "            x : torch.Tensor of size (batch_size, seq_length, input_size)\n",
    "                tensor of input data\n",
    "        Returns:\n",
    "        -------\n",
    "            output: torch.Tensor of size (batch_size, output_size)\n",
    "                output of the model\n",
    "        \n",
    "        '''\n",
    "        \n",
    "        n_batches = x.shape[0]\n",
    "      \n",
    "        # Use the commented line below to access hidden and cell states.\n",
    "        y, _ = self.LSTM(x) # y, (new_hid_state, new_cell_state) = self.LSTM(x)\n",
    "        y = y.reshape(y.shape[0], -1)\n",
    "    \n",
    "        # Uncomment below for the model to return also the last hidden and cell state\n",
    "        output = self.fc(y) #,new_hid_state, new_cell_state\n",
    "\n",
    "        return output"
   ]
  },
  {
   "cell_type": "markdown",
   "id": "84b437f4-0001-4dfb-91b1-81856a2a4535",
   "metadata": {},
   "source": [
    "Once the model is defined, PyTorch requires the explicit call of the optimisation steps involved in learning. After setting the parameters, initialised the model, loss function and opimizer, I defined the training loop with an evaluation step to compute the loss on the validation data and ensuring that the model is not overfitting."
   ]
  },
  {
   "cell_type": "code",
   "execution_count": 30,
   "id": "5fd94afc-f9bc-4162-a290-8e818fbd45a9",
   "metadata": {},
   "outputs": [
    {
     "name": "stderr",
     "output_type": "stream",
     "text": [
      "/Library/Frameworks/Python.framework/Versions/3.12/lib/python3.12/site-packages/tqdm/auto.py:21: TqdmWarning: IProgress not found. Please update jupyter and ipywidgets. See https://ipywidgets.readthedocs.io/en/stable/user_install.html\n",
      "  from .autonotebook import tqdm as notebook_tqdm\n"
     ]
    },
    {
     "name": "stdout",
     "output_type": "stream",
     "text": [
      "Starting epoch 1\n",
      "Batch 1:\n",
      "Train loss: 0.4123\n",
      "Valid loss: 0.7307\n",
      "----------\n",
      "Batch 6:\n",
      "Train loss: 0.3293\n",
      "Valid loss: 0.1546\n",
      "----------\n",
      "Batch 11:\n",
      "Train loss: 0.2310\n",
      "Valid loss: 0.0989\n",
      "----------\n",
      "Starting epoch 2\n",
      "Batch 1:\n",
      "Train loss: 0.1089\n",
      "Valid loss: 0.0990\n",
      "----------\n",
      "Batch 6:\n",
      "Train loss: 0.0677\n",
      "Valid loss: 0.0850\n",
      "----------\n",
      "Batch 11:\n",
      "Train loss: 0.0599\n",
      "Valid loss: 0.0502\n",
      "----------\n",
      "Starting epoch 3\n",
      "Batch 1:\n",
      "Train loss: 0.0196\n",
      "Valid loss: 0.0263\n",
      "----------\n",
      "Batch 6:\n",
      "Train loss: 0.0308\n",
      "Valid loss: 0.0191\n",
      "----------\n",
      "Batch 11:\n",
      "Train loss: 0.0280\n",
      "Valid loss: 0.0183\n",
      "----------\n",
      "Starting epoch 4\n",
      "Batch 1:\n",
      "Train loss: 0.0224\n",
      "Valid loss: 0.0150\n",
      "----------\n",
      "Batch 6:\n",
      "Train loss: 0.0155\n",
      "Valid loss: 0.0143\n",
      "----------\n",
      "Batch 11:\n",
      "Train loss: 0.0155\n",
      "Valid loss: 0.0140\n",
      "----------\n",
      "Starting epoch 5\n",
      "Batch 1:\n",
      "Train loss: 0.0152\n",
      "Valid loss: 0.0117\n",
      "----------\n",
      "Batch 6:\n",
      "Train loss: 0.0144\n",
      "Valid loss: 0.0110\n",
      "----------\n",
      "Batch 11:\n",
      "Train loss: 0.0143\n",
      "Valid loss: 0.0113\n",
      "----------\n",
      "Starting epoch 6\n",
      "Batch 1:\n",
      "Train loss: 0.0229\n",
      "Valid loss: 0.0101\n",
      "----------\n",
      "Batch 6:\n",
      "Train loss: 0.0125\n",
      "Valid loss: 0.0102\n",
      "----------\n",
      "Batch 11:\n",
      "Train loss: 0.0124\n",
      "Valid loss: 0.0099\n",
      "----------\n",
      "Starting epoch 7\n",
      "Batch 1:\n",
      "Train loss: 0.0069\n",
      "Valid loss: 0.0107\n",
      "----------\n",
      "Batch 6:\n",
      "Train loss: 0.0089\n",
      "Valid loss: 0.0105\n",
      "----------\n",
      "Batch 11:\n",
      "Train loss: 0.0103\n",
      "Valid loss: 0.0099\n",
      "----------\n",
      "Starting epoch 8\n",
      "Batch 1:\n",
      "Train loss: 0.0112\n",
      "Valid loss: 0.0137\n",
      "----------\n",
      "Batch 6:\n",
      "Train loss: 0.0127\n",
      "Valid loss: 0.0089\n",
      "----------\n",
      "Batch 11:\n",
      "Train loss: 0.0100\n",
      "Valid loss: 0.0098\n",
      "----------\n",
      "Starting epoch 9\n",
      "Batch 1:\n",
      "Train loss: 0.0069\n",
      "Valid loss: 0.0081\n",
      "----------\n",
      "Batch 6:\n",
      "Train loss: 0.0086\n",
      "Valid loss: 0.0080\n",
      "----------\n",
      "Batch 11:\n",
      "Train loss: 0.0086\n",
      "Valid loss: 0.0074\n",
      "----------\n",
      "Starting epoch 10\n",
      "Batch 1:\n",
      "Train loss: 0.0033\n",
      "Valid loss: 0.0073\n",
      "----------\n",
      "Batch 6:\n",
      "Train loss: 0.0076\n",
      "Valid loss: 0.0072\n",
      "----------\n",
      "Batch 11:\n",
      "Train loss: 0.0085\n",
      "Valid loss: 0.0083\n",
      "----------\n"
     ]
    }
   ],
   "source": [
    "# Parameters\n",
    "batch_size = 15\n",
    "num_epochs = 10\n",
    "seq_length = X.shape[1]\n",
    "input_size = X.shape[2]\n",
    "hidden_units = 64\n",
    "\n",
    "# Extract valid data for model evaluation\n",
    "X_valid, y_valid = DataLoader(valid_set).dataset[:]\n",
    "\n",
    "train_data = DataLoader(train_set, batch_size = batch_size, shuffle=True)\n",
    "\n",
    "# Declare model\n",
    "model=ThermoLSTM(input_size, seq_length, hidden_units, 1, 1).to(device)\n",
    "\n",
    "loss_function = torch.nn.MSELoss()\n",
    "optimizer = torch.optim.Adam(model.parameters(), lr=0.0005)\n",
    "\n",
    "# Fit model\n",
    "for epoch in range(0, num_epochs):\n",
    "\n",
    "    print(f'Starting epoch {epoch+1}')\n",
    "\n",
    "    current_loss = 0.0\n",
    "    for i, (inputs, targets) in enumerate(train_data, 0):\n",
    "\n",
    "      optimizer.zero_grad()\n",
    "      outputs = model(inputs).squeeze()\n",
    "    \n",
    "      train_loss = loss_function(outputs, targets)\n",
    "\n",
    "      train_loss.backward() # fill the computational graph with partial derivatives\n",
    "      optimizer.step()      # update the model parameters\n",
    "\n",
    "      current_loss += train_loss.item()\n",
    "\n",
    "      model.eval() # model evaluation does not require information about gradients\n",
    "      with torch.no_grad():\n",
    "        valid_outputs = model(X_valid).squeeze()\n",
    "        valid_loss = loss_function(valid_outputs, y_valid)\n",
    "\n",
    "      model.train()\n",
    "        \n",
    "      if i%5 == 0:\n",
    "        print(f'Batch {i+1}:\\n'\n",
    "              f'Train loss: {current_loss/(i+1):.4f}\\n'\n",
    "              f'Valid loss: {valid_loss:.4f}\\n'\n",
    "              f'----------')"
   ]
  },
  {
   "cell_type": "markdown",
   "id": "f2500d92-8c61-4eb3-b29c-c2c8e2cc6cc7",
   "metadata": {},
   "source": [
    "We can see the training and validation loss decreasing (although not monotonically, but this is expected). The validation loss seems to stop decreasing at some point, but since the training loss is still decreasing, the model is most likely still learning. It is essential to monitor for eventual increasing of the validation loss as it may indicate overfitting.\n",
    "\n",
    "The performance of this model are calculated using $R^2$ score as it is a regression model."
   ]
  },
  {
   "cell_type": "code",
   "execution_count": 31,
   "id": "f0c01e98-a7e8-4c1b-87b9-1a00a4bec47f",
   "metadata": {},
   "outputs": [
    {
     "name": "stdout",
     "output_type": "stream",
     "text": [
      "R2: 0.8487849668215572\n"
     ]
    }
   ],
   "source": [
    "from sklearn.metrics import r2_score\n",
    "\n",
    "#Get predictions\n",
    "X_test, y_test = DataLoader(test_set).dataset[:]\n",
    "y_test_pred=model(X_test)\n",
    "\n",
    "#Get metric of fit\n",
    "R2=r2_score(y_test.detach().cpu().numpy(), y_test_pred.detach().cpu().numpy())\n",
    "print('R2:', R2)"
   ]
  },
  {
   "cell_type": "code",
   "execution_count": 32,
   "id": "e7ad964c-5abc-4a4e-9778-7846b6cd1e6c",
   "metadata": {},
   "outputs": [
    {
     "data": {
      "image/png": "[encoded data removed]",
      "text/plain": [
       "<Figure size 640x480 with 1 Axes>"
      ]
     },
     "metadata": {},
     "output_type": "display_data"
    }
   ],
   "source": [
    "fig, ax = plt.subplots()\n",
    "\n",
    "ax.scatter(y_test.detach().cpu()*(max_thermo - min_thermo) + min_thermo,\n",
    "           y_test_pred.detach().cpu()*(max_thermo - min_thermo) + min_thermo\n",
    "          )\n",
    "ax.plot(np.arange(42,67), np.arange(42,67), '--', color='r', alpha=0.5, label='y = x')\n",
    "\n",
    "ax.set_xlabel('Actual value')\n",
    "ax.set_ylabel('Predicted value')\n",
    "\n",
    "ax.set_xlim([40,67])\n",
    "ax.set_ylim([40,67])\n",
    "\n",
    "ax.set_title('Thermostability (¡C)')\n",
    "\n",
    "ax.legend()\n",
    "\n",
    "ax.set_aspect('equal', adjustable='box')\n",
    "\n",
    "plt.show()"
   ]
  },
  {
   "cell_type": "markdown",
   "id": "ec756ea9-1d65-49f3-90b2-d1c00dc0d31a",
   "metadata": {},
   "source": [
    "Both the plot and the $R^2$ score of about $0.85$ show a good performance of this simple LSTM model with just one layer and $64$ hidden units, given that I haven't performed any fine tuning.\n",
    "\n",
    "To improve the model, a combination of different hyperparameters might be tested (like the number of LSTM layers, dimensionality of the hidden and cell representation, number of epochs, learning rate, etc). The introduction of Dropout can also be tested. In addition, advanced technique like learning rate scheduling might be introduced to dynamically change the learning rate to avoid local minima or slower convergence."
   ]
  },
  {
   "cell_type": "markdown",
   "id": "c40a69cf-0382-49bf-b159-fe0cc8a1be90",
   "metadata": {},
   "source": [
    "## Section 3: Using LLM's encoding"
   ]
  },
  {
   "cell_type": "markdown",
   "id": "9a05eff3-9e53-4ac5-a194-af26c92f4f64",
   "metadata": {},
   "source": [
    "In the previous section I used one-hot encoding to create a suitable input for a recurrent architecture (LSTM). In this very short section, I will provide another solution which has become extremely popular in the last few years: LLMs.\n",
    "\n",
    "LLMs are usually seq-to-seq model meaning that they are suited to work with input sequence data and output sequence data as well. To accomplish this, most LLMs are composed by two main substructures, an encoder and a decoder. The encoder aims to create embedded representations of the input sequence which is in turn passed to the decoder for the specific task to be accomplished.\n",
    "\n",
    "For most open source LLMs, the encoder can be accessed separately. Using a pretrain encoder of a protein LLM, we can exploit a representation coming from a model which has condensed enormous amount of knowledge about proteins. Such representations can be used for a wide range of tasks, spanning from 3D protein folding structure prediction to regression problem like the scope of the report.\n",
    "\n",
    "Given the time constraint, I will just show how to load a popular pretrained  model, ProtBERT, and extract the embeddings of the proteins in the dataset. ProtBERT has been trained on the Uniref100 dataset consisting of 217 million of protein sequences."
   ]
  },
  {
   "cell_type": "code",
   "execution_count": 33,
   "id": "d86ab77f-38f4-4b32-b5c2-1f72a7131ee3",
   "metadata": {},
   "outputs": [],
   "source": [
    "from transformers import BertModel, BertTokenizer\n",
    "\n",
    "tokenizer = BertTokenizer.from_pretrained(\"Rostlab/prot_bert\", do_lower_case=False )\n",
    "llm_model = BertModel.from_pretrained(\"Rostlab/prot_bert\")"
   ]
  },
  {
   "cell_type": "markdown",
   "id": "b0322499-4aa5-44f2-9ed3-569aa1e35a94",
   "metadata": {},
   "source": [
    "We can inspect the model architecture:"
   ]
  },
  {
   "cell_type": "code",
   "execution_count": 34,
   "id": "beff5e4a-29cd-4f33-bb0d-68608fd93ae2",
   "metadata": {},
   "outputs": [
    {
     "name": "stdout",
     "output_type": "stream",
     "text": [
      "BertModel(\n",
      "  (embeddings): BertEmbeddings(\n",
      "    (word_embeddings): Embedding(30, 1024, padding_idx=0)\n",
      "    (position_embeddings): Embedding(40000, 1024)\n",
      "    (token_type_embeddings): Embedding(2, 1024)\n",
      "    (LayerNorm): LayerNorm((1024,), eps=1e-12, elementwise_affine=True)\n",
      "    (dropout): Dropout(p=0.0, inplace=False)\n",
      "  )\n",
      "  (encoder): BertEncoder(\n",
      "    (layer): ModuleList(\n",
      "      (0-29): 30 x BertLayer(\n",
      "        (attention): BertAttention(\n",
      "          (self): BertSelfAttention(\n",
      "            (query): Linear(in_features=1024, out_features=1024, bias=True)\n",
      "            (key): Linear(in_features=1024, out_features=1024, bias=True)\n",
      "            (value): Linear(in_features=1024, out_features=1024, bias=True)\n",
      "            (dropout): Dropout(p=0.0, inplace=False)\n",
      "          )\n",
      "          (output): BertSelfOutput(\n",
      "            (dense): Linear(in_features=1024, out_features=1024, bias=True)\n",
      "            (LayerNorm): LayerNorm((1024,), eps=1e-12, elementwise_affine=True)\n",
      "            (dropout): Dropout(p=0.0, inplace=False)\n",
      "          )\n",
      "        )\n",
      "        (intermediate): BertIntermediate(\n",
      "          (dense): Linear(in_features=1024, out_features=4096, bias=True)\n",
      "          (intermediate_act_fn): GELUActivation()\n",
      "        )\n",
      "        (output): BertOutput(\n",
      "          (dense): Linear(in_features=4096, out_features=1024, bias=True)\n",
      "          (LayerNorm): LayerNorm((1024,), eps=1e-12, elementwise_affine=True)\n",
      "          (dropout): Dropout(p=0.0, inplace=False)\n",
      "        )\n",
      "      )\n",
      "    )\n",
      "  )\n",
      "  (pooler): BertPooler(\n",
      "    (dense): Linear(in_features=1024, out_features=1024, bias=True)\n",
      "    (activation): Tanh()\n",
      "  )\n",
      ")\n"
     ]
    }
   ],
   "source": [
    "print(llm_model)"
   ]
  },
  {
   "cell_type": "markdown",
   "id": "3d63b6e9-f746-4927-91d8-7ccd572cd99e",
   "metadata": {},
   "source": [
    "ProtBERT is composed of three main modules named embeddings, encoder and pooler. Let's use it to create embeddings for our proteins:"
   ]
  },
  {
   "cell_type": "code",
   "execution_count": 35,
   "id": "20880bcf-780c-40b3-ad08-19f8b152de3a",
   "metadata": {},
   "outputs": [],
   "source": [
    "embeddings = []\n",
    "\n",
    "for i in range(len(thermostability)):\n",
    "    # ProtBERT is trained on sequence of 20 Amminoacids plus 'X' for uncommon ones. As such, the gap character is discarded\n",
    "    sequence = thermostability['sequence'][i].replace('-', '') \n",
    "    encoded_input = tokenizer(sequence, return_tensors='pt')\n",
    "    embed = llm_model(**encoded_input)\n",
    "    embeddings.append(embed.pooler_output)\n",
    "\n",
    "X_llm = torch.cat(embeddings).detach()"
   ]
  },
  {
   "cell_type": "code",
   "execution_count": 36,
   "id": "56861144-d47f-4be3-bfda-4e3706b32e03",
   "metadata": {},
   "outputs": [
    {
     "name": "stdout",
     "output_type": "stream",
     "text": [
      "torch.Size([261, 1024])\n"
     ]
    }
   ],
   "source": [
    "print(X_llm.shape)"
   ]
  },
  {
   "cell_type": "markdown",
   "id": "52cdfef2-6119-45f0-9840-87cb2bd3dc4b",
   "metadata": {},
   "source": [
    "Each protein sequence is encoded in a 1024-dimensional vector. Such vectors can be used as input feature for other models, or the encoder can be fine-tuned for a specific task."
   ]
  },
  {
   "cell_type": "markdown",
   "id": "f1acad97-f1fb-468b-98d3-ee9ccc84dac5",
   "metadata": {},
   "source": [
    "## Conclusion"
   ]
  },
  {
   "cell_type": "markdown",
   "id": "4b396343-be46-42fa-a6dc-13fbfc3b43d4",
   "metadata": {},
   "source": [
    "In this report, I performed exploratory data analysis on a dataset of protein sequence activity data. I first checked that the sequences are in the expected format and there were no major issues in the dataset. I analised the distribution of the thermostability data and supported the data exploration with some visualisations.\n",
    "\n",
    "I have preprocessed the data using one-hot encoding and normalisation to model the dataset using a bidirectional LSTM predicting the thermostability values with good performances, quantified by an $R^2$ score of about $0.85$.\n",
    "\n",
    "Finally, I loaded a pretrained protein LLM from hugging face and used it to embed the protein sequences.\n",
    "\n",
    "It was extremely interesting to work on this task and I've learned a lot. I'm very much looking forward to discuss my approach and receive any feedback. I'm available to answer any further question via email at sicurellaemanuele@gmail.com or to schedule a call.\n",
    "\n",
    "_Emanuele Sicurella_\n",
    "\n"
   ]
  }
 ],
 "metadata": {
  "kernelspec": {
   "display_name": "Python 3 (ipykernel)",
   "language": "python",
   "name": "python3"
  },
  "language_info": {
   "codemirror_mode": {
    "name": "ipython",
    "version": 3
   },
   "file_extension": ".py",
   "mimetype": "text/x-python",
   "name": "python",
   "nbconvert_exporter": "python",
   "pygments_lexer": "ipython3",
   "version": "3.12.3"
  }
 },
 "nbformat": 4,
 "nbformat_minor": 5
}
